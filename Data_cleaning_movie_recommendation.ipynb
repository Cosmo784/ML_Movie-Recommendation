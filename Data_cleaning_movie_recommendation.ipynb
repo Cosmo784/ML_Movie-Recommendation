{
  "cells": [
    {
      "cell_type": "code",
      "source": [
        "# Import required libraries\n",
        "import pandas as pd\n",
        "\n",
        "# File paths for the datasets\n",
        "movies_file = \"/content/drive/MyDrive/movies.csv\"\n",
        "ratings_file = \"/content/drive/MyDrive/ratings_cleaned.csv\"\n",
        "\n",
        "# Step 1: Data Acquisition\n",
        "# Load the datasets into pandas DataFrames\n",
        "movies = pd.read_csv(movies_file)\n",
        "ratings = pd.read_csv(ratings_file)"
      ],
      "metadata": {
        "id": "rRf31ltamlFa"
      },
      "execution_count": 4,
      "outputs": []
    },
    {
      "cell_type": "code",
      "source": [
        "# Step 2: Preview the Data\n",
        "print(\"Movies Dataset Preview:\")\n",
        "print(movies.head())\n",
        "print(\"\\nRatings Dataset Preview:\")\n",
        "print(ratings.head())"
      ],
      "metadata": {
        "colab": {
          "base_uri": "https://localhost:8080/"
        },
        "id": "GE9bH9X5mpFb",
        "outputId": "aca6fd3a-312e-4716-ca52-79a993b44de7"
      },
      "execution_count": 5,
      "outputs": [
        {
          "output_type": "stream",
          "name": "stdout",
          "text": [
            "Movies Dataset Preview:\n",
            "   movieId                         title  \\\n",
            "0    42594       Scream and Scream Again   \n",
            "1   280133                         Jenny   \n",
            "2   225155      The Adventures of Gerard   \n",
            "3    85255      ...tick...tick...tick...   \n",
            "4   117999  Last of the Mobile Hot Shots   \n",
            "\n",
            "                                       cast_and_crew  year  \\\n",
            "0  Gordon Hessler (director); Christopher Wicking...  1970   \n",
            "1  George Bloomfield (director/screenplay); Marti...  1970   \n",
            "2  Jerzy Skolimowski (director/screenplay); Arthu...  1970   \n",
            "3  Ralph Nelson (director); James Lee Barrett (sc...  1970   \n",
            "4  Sidney Lumet (director); Gore Vidal (screenpla...  1970   \n",
            "\n",
            "                        poster_path                     genre  \n",
            "0  /49m9QJ2ubKuVtdDj9B7XqgCyriv.jpg   Horror, Science Fiction  \n",
            "1  /iaJ0PyRh17KoMcUlXxTVu6Vi85s.jpg            Drama, Romance  \n",
            "2  /aoOV7vWvGiNjaUTHCSIEAeHSvOw.jpg  Adventure, Comedy, Drama  \n",
            "3  /rBNgytHXZEXgOl805pYWKiBQe7s.jpg             Drama, Action  \n",
            "4  /xj5Rub6H5B9yMh6GL3oomOM1SLg.jpg                     Drama  \n",
            "\n",
            "Ratings Dataset Preview:\n",
            "   movieId  userId  rating\n",
            "0    42594       0     6.0\n",
            "1    42594       1     5.0\n",
            "2    65891       2     7.0\n",
            "3    11202       3     9.0\n",
            "4    11202       4     9.0\n"
          ]
        }
      ]
    },
    {
      "cell_type": "code",
      "source": [
        "# Step 3: Check for Missing Values\n",
        "print(\"\\nChecking for Missing Values:\")\n",
        "print(\"Movies Missing Values:\\n\", movies.isnull().sum())\n",
        "print(\"\\nRatings Missing Values:\\n\", ratings.isnull().sum())"
      ],
      "metadata": {
        "colab": {
          "base_uri": "https://localhost:8080/"
        },
        "id": "5hTCYLH9nHLT",
        "outputId": "ea5dceb9-305d-4c4d-bd53-c9cfd285824d"
      },
      "execution_count": 6,
      "outputs": [
        {
          "output_type": "stream",
          "name": "stdout",
          "text": [
            "\n",
            "Checking for Missing Values:\n",
            "Movies Missing Values:\n",
            " movieId           0\n",
            "title             0\n",
            "cast_and_crew     0\n",
            "year              0\n",
            "poster_path      35\n",
            "genre             0\n",
            "dtype: int64\n",
            "\n",
            "Ratings Missing Values:\n",
            " movieId    0\n",
            "userId     0\n",
            "rating     0\n",
            "dtype: int64\n"
          ]
        }
      ]
    },
    {
      "cell_type": "code",
      "source": [
        "# Step 4: Handling Missing Values\n",
        "# If missing values exist, handle them (e.g., drop or fill)\n",
        "if movies.isnull().sum().sum() > 0:\n",
        "    print(\"\\nHandling missing values in 'movies' dataset...\")\n",
        "    movies.dropna(inplace=True)  # Drop rows with missing values\n",
        "if ratings.isnull().sum().sum() > 0:\n",
        "    print(\"\\nHandling missing values in 'ratings' dataset...\")\n",
        "    ratings.dropna(inplace=True)  # Drop rows with missing values"
      ],
      "metadata": {
        "colab": {
          "base_uri": "https://localhost:8080/"
        },
        "id": "zfhf5CYWnIqK",
        "outputId": "322c9993-2903-4286-974a-c7ba78b12fdc"
      },
      "execution_count": 7,
      "outputs": [
        {
          "output_type": "stream",
          "name": "stdout",
          "text": [
            "\n",
            "Handling missing values in 'movies' dataset...\n"
          ]
        }
      ]
    },
    {
      "cell_type": "code",
      "source": [
        "# Step 5: Check for Duplicates\n",
        "print(\"\\nChecking for Duplicates:\")\n",
        "print(\"Duplicate Rows in Movies:\", movies.duplicated().sum())\n",
        "print(\"Duplicate Rows in Ratings:\", ratings.duplicated().sum())"
      ],
      "metadata": {
        "colab": {
          "base_uri": "https://localhost:8080/"
        },
        "id": "ewQ0J9CSnMyw",
        "outputId": "1d15aa50-1f02-4d13-93e0-a41b1c75cf96"
      },
      "execution_count": 8,
      "outputs": [
        {
          "output_type": "stream",
          "name": "stdout",
          "text": [
            "\n",
            "Checking for Duplicates:\n",
            "Duplicate Rows in Movies: 0\n",
            "Duplicate Rows in Ratings: 0\n"
          ]
        }
      ]
    },
    {
      "cell_type": "code",
      "source": [
        "# Step 6: Data Type Validation\n",
        "print(\"\\nValidating Data Types:\")\n",
        "print(\"Movies Data Types:\\n\", movies.dtypes)\n",
        "print(\"\\nRatings Data Types:\\n\", ratings.dtypes)"
      ],
      "metadata": {
        "colab": {
          "base_uri": "https://localhost:8080/"
        },
        "id": "VQr8ryHQnVEb",
        "outputId": "849b9f47-269a-4dac-c2df-2dd303ea662c"
      },
      "execution_count": 10,
      "outputs": [
        {
          "output_type": "stream",
          "name": "stdout",
          "text": [
            "\n",
            "Validating Data Types:\n",
            "Movies Data Types:\n",
            " movieId           int64\n",
            "title            object\n",
            "cast_and_crew    object\n",
            "year              int64\n",
            "poster_path      object\n",
            "genre            object\n",
            "dtype: object\n",
            "\n",
            "Ratings Data Types:\n",
            " movieId      int64\n",
            "userId       int64\n",
            "rating     float64\n",
            "dtype: object\n"
          ]
        }
      ]
    },
    {
      "cell_type": "code",
      "source": [
        "# Step 7: Ensuring Consistent Keys\n",
        "# Check for movies in the ratings dataset that are not in the movies dataset\n",
        "print(\"\\nEnsuring consistency between datasets:\")\n",
        "movies_in_ratings = ratings['movieId'].isin(movies['movieId'])\n",
        "if not movies_in_ratings.all():\n",
        "    print(f\"Removing {(~movies_in_ratings).sum()} ratings for movies not found in the 'movies' dataset...\")\n",
        "    ratings = ratings[movies_in_ratings]"
      ],
      "metadata": {
        "colab": {
          "base_uri": "https://localhost:8080/"
        },
        "id": "X5thg_m4nXrc",
        "outputId": "9f61f868-3473-43e5-872c-f6fcf0bcbeed"
      },
      "execution_count": 11,
      "outputs": [
        {
          "output_type": "stream",
          "name": "stdout",
          "text": [
            "\n",
            "Ensuring consistency between datasets:\n"
          ]
        }
      ]
    },
    {
      "cell_type": "code",
      "source": [
        "# Final Preview of Cleaned Data\n",
        "print(\"\\nCleaned Movies Dataset:\")\n",
        "print(movies.info())\n",
        "print(\"\\nCleaned Ratings Dataset:\")\n",
        "print(ratings.info())"
      ],
      "metadata": {
        "colab": {
          "base_uri": "https://localhost:8080/"
        },
        "id": "QZXs75i-niyz",
        "outputId": "99ed13f1-8aac-4a83-8448-5f3e46d22189"
      },
      "execution_count": 12,
      "outputs": [
        {
          "output_type": "stream",
          "name": "stdout",
          "text": [
            "\n",
            "Cleaned Movies Dataset:\n",
            "<class 'pandas.core.frame.DataFrame'>\n",
            "Index: 11470 entries, 0 to 11504\n",
            "Data columns (total 6 columns):\n",
            " #   Column         Non-Null Count  Dtype \n",
            "---  ------         --------------  ----- \n",
            " 0   movieId        11470 non-null  int64 \n",
            " 1   title          11470 non-null  object\n",
            " 2   cast_and_crew  11470 non-null  object\n",
            " 3   year           11470 non-null  int64 \n",
            " 4   poster_path    11470 non-null  object\n",
            " 5   genre          11470 non-null  object\n",
            "dtypes: int64(2), object(4)\n",
            "memory usage: 627.3+ KB\n",
            "None\n",
            "\n",
            "Cleaned Ratings Dataset:\n",
            "<class 'pandas.core.frame.DataFrame'>\n",
            "RangeIndex: 11674 entries, 0 to 11673\n",
            "Data columns (total 3 columns):\n",
            " #   Column   Non-Null Count  Dtype  \n",
            "---  ------   --------------  -----  \n",
            " 0   movieId  11674 non-null  int64  \n",
            " 1   userId   11674 non-null  int64  \n",
            " 2   rating   11674 non-null  float64\n",
            "dtypes: float64(1), int64(2)\n",
            "memory usage: 273.7 KB\n",
            "None\n"
          ]
        }
      ]
    },
    {
      "cell_type": "code",
      "source": [
        "# Save the cleaned datasets for further use\n",
        "movies.to_csv(\"/content/drive/MyDrive/movies.csv\", index=False)\n",
        "ratings.to_csv(\"/content/drive/MyDrive/ratings.csv\", index=False)\n",
        "print(\"\\nCleaned datasets saved \")"
      ],
      "metadata": {
        "colab": {
          "base_uri": "https://localhost:8080/"
        },
        "id": "k3MJrI5ZnzQN",
        "outputId": "a0859cb7-862e-4b8c-9ebe-1b4b500b1b00"
      },
      "execution_count": 16,
      "outputs": [
        {
          "output_type": "stream",
          "name": "stdout",
          "text": [
            "\n",
            "Cleaned datasets saved \n"
          ]
        }
      ]
    }
  ],
  "metadata": {
    "kernelspec": {
      "display_name": "recsys",
      "language": "python",
      "name": "python3"
    },
    "language_info": {
      "codemirror_mode": {
        "name": "ipython",
        "version": 3
      },
      "file_extension": ".py",
      "mimetype": "text/x-python",
      "name": "python",
      "nbconvert_exporter": "python",
      "pygments_lexer": "ipython3",
      "version": "3.10.13"
    },
    "colab": {
      "provenance": []
    }
  },
  "nbformat": 4,
  "nbformat_minor": 0
}
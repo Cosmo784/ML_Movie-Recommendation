{
  "nbformat": 4,
  "nbformat_minor": 0,
  "metadata": {
    "colab": {
      "provenance": []
    },
    "kernelspec": {
      "name": "python3",
      "display_name": "Python 3"
    },
    "language_info": {
      "name": "python"
    }
  },
  "cells": [
    {
      "cell_type": "code",
      "source": [
        "!pip install surprise"
      ],
      "metadata": {
        "colab": {
          "base_uri": "https://localhost:8080/"
        },
        "id": "WO9L4wX_kyug",
        "outputId": "a3666853-299f-4553-cc9c-c17d7b0e6011"
      },
      "execution_count": 4,
      "outputs": [
        {
          "output_type": "stream",
          "name": "stdout",
          "text": [
            "Collecting surprise\n",
            "  Downloading surprise-0.1-py2.py3-none-any.whl.metadata (327 bytes)\n",
            "Collecting scikit-surprise (from surprise)\n",
            "  Downloading scikit_surprise-1.1.4.tar.gz (154 kB)\n",
            "\u001b[2K     \u001b[90m━━━━━━━━━━━━━━━━━━━━━━━━━━━━━━━━━━━━━━━━\u001b[0m \u001b[32m154.4/154.4 kB\u001b[0m \u001b[31m2.6 MB/s\u001b[0m eta \u001b[36m0:00:00\u001b[0m\n",
            "\u001b[?25h  Installing build dependencies ... \u001b[?25l\u001b[?25hdone\n",
            "  Getting requirements to build wheel ... \u001b[?25l\u001b[?25hdone\n",
            "  Preparing metadata (pyproject.toml) ... \u001b[?25l\u001b[?25hdone\n",
            "Requirement already satisfied: joblib>=1.2.0 in /usr/local/lib/python3.10/dist-packages (from scikit-surprise->surprise) (1.4.2)\n",
            "Requirement already satisfied: numpy>=1.19.5 in /usr/local/lib/python3.10/dist-packages (from scikit-surprise->surprise) (1.26.4)\n",
            "Requirement already satisfied: scipy>=1.6.0 in /usr/local/lib/python3.10/dist-packages (from scikit-surprise->surprise) (1.13.1)\n",
            "Downloading surprise-0.1-py2.py3-none-any.whl (1.8 kB)\n",
            "Building wheels for collected packages: scikit-surprise\n",
            "  Building wheel for scikit-surprise (pyproject.toml) ... \u001b[?25l\u001b[?25hdone\n",
            "  Created wheel for scikit-surprise: filename=scikit_surprise-1.1.4-cp310-cp310-linux_x86_64.whl size=2357273 sha256=f318b749612c48f4989d7f3c85914f6667ac8be1ab4854254b9a528d67eb02b0\n",
            "  Stored in directory: /root/.cache/pip/wheels/4b/3f/df/6acbf0a40397d9bf3ff97f582cc22fb9ce66adde75bc71fd54\n",
            "Successfully built scikit-surprise\n",
            "Installing collected packages: scikit-surprise, surprise\n",
            "Successfully installed scikit-surprise-1.1.4 surprise-0.1\n"
          ]
        }
      ]
    },
    {
      "cell_type": "code",
      "source": [
        "# Import libraries\n",
        "import pandas as pd\n",
        "from surprise import Dataset, Reader, SVD\n",
        "from surprise.model_selection import train_test_split, cross_validate\n",
        "\n",
        "# Upload datasets\n",
        "movies_file = \"/content/drive/MyDrive/movies.csv\"\n",
        "ratings_file = \"/content/drive/MyDrive/ratings_cleaned.csv\"\n",
        "# Load datasets\n",
        "movies = pd.read_csv(movies_file)\n",
        "ratings = pd.read_csv(ratings_file)"
      ],
      "metadata": {
        "id": "N-g1ri8tkXf8"
      },
      "execution_count": 5,
      "outputs": []
    },
    {
      "cell_type": "code",
      "source": [
        "print(\"Movies Dataset:\")\n",
        "print(movies.head())\n",
        "print(\"\\nRatings Dataset:\")\n",
        "print(ratings.head())"
      ],
      "metadata": {
        "colab": {
          "base_uri": "https://localhost:8080/"
        },
        "id": "7ol2_GGpkvnD",
        "outputId": "65e3a753-dfd2-4f61-c86e-7fb9662300f8"
      },
      "execution_count": 6,
      "outputs": [
        {
          "output_type": "stream",
          "name": "stdout",
          "text": [
            "Movies Dataset:\n",
            "   movieId                         title  \\\n",
            "0    42594       Scream and Scream Again   \n",
            "1   280133                         Jenny   \n",
            "2   225155      The Adventures of Gerard   \n",
            "3    85255      ...tick...tick...tick...   \n",
            "4   117999  Last of the Mobile Hot Shots   \n",
            "\n",
            "                                       cast_and_crew  year  \\\n",
            "0  Gordon Hessler (director); Christopher Wicking...  1970   \n",
            "1  George Bloomfield (director/screenplay); Marti...  1970   \n",
            "2  Jerzy Skolimowski (director/screenplay); Arthu...  1970   \n",
            "3  Ralph Nelson (director); James Lee Barrett (sc...  1970   \n",
            "4  Sidney Lumet (director); Gore Vidal (screenpla...  1970   \n",
            "\n",
            "                        poster_path                     genre  \n",
            "0  /49m9QJ2ubKuVtdDj9B7XqgCyriv.jpg   Horror, Science Fiction  \n",
            "1  /iaJ0PyRh17KoMcUlXxTVu6Vi85s.jpg            Drama, Romance  \n",
            "2  /aoOV7vWvGiNjaUTHCSIEAeHSvOw.jpg  Adventure, Comedy, Drama  \n",
            "3  /rBNgytHXZEXgOl805pYWKiBQe7s.jpg             Drama, Action  \n",
            "4  /xj5Rub6H5B9yMh6GL3oomOM1SLg.jpg                     Drama  \n",
            "\n",
            "Ratings Dataset:\n",
            "   movieId  userId  rating\n",
            "0    42594       0     6.0\n",
            "1    42594       1     5.0\n",
            "2    65891       2     7.0\n",
            "3    11202       3     9.0\n",
            "4    11202       4     9.0\n"
          ]
        }
      ]
    },
    {
      "cell_type": "code",
      "source": [
        "movies.drop(columns=['poster_path'], inplace=True)"
      ],
      "metadata": {
        "id": "5PfzlYluqRN4"
      },
      "execution_count": 14,
      "outputs": []
    },
    {
      "cell_type": "code",
      "source": [
        "# Ensure the required columns are present\n",
        "assert {'userId', 'movieId', 'rating'}.issubset(ratings.columns), \"Ratings file must contain 'userId', 'movieId', 'rating'.\"\n",
        "assert {'movieId', 'title'}.issubset(movies.columns), \"Movies file must contain 'movieId' and 'title'.\"\n",
        "# Define the Reader for Surprise (rating scale should match the dataset)\n",
        "reader = Reader(rating_scale=(ratings['rating'].min(), ratings['rating'].max()))\n",
        "\n",
        "# Load the data into Surprise's Dataset format\n",
        "data = Dataset.load_from_df(ratings[['userId', 'movieId', 'rating']], reader)\n",
        "# Train-test split\n",
        "trainset, testset = train_test_split(data, test_size=0.2)\n",
        "\n",
        "# Train the SVD (Singular Value Decomposition) model\n",
        "model = SVD()\n",
        "model.fit(trainset)\n"
      ],
      "metadata": {
        "colab": {
          "base_uri": "https://localhost:8080/"
        },
        "id": "tpSUv7NPldGQ",
        "outputId": "999ef9c7-6287-4497-dcc7-46a248b3f7ff"
      },
      "execution_count": 15,
      "outputs": [
        {
          "output_type": "execute_result",
          "data": {
            "text/plain": [
              "<surprise.prediction_algorithms.matrix_factorization.SVD at 0x7c6e9eea1b10>"
            ]
          },
          "metadata": {},
          "execution_count": 15
        }
      ]
    },
    {
      "cell_type": "code",
      "source": [
        "# Evaluate the model\n",
        "print(\"\\nModel Evaluation Results:\")\n",
        "cross_validate(model, data, measures=['RMSE', 'MAE'], cv=5, verbose=True)\n"
      ],
      "metadata": {
        "colab": {
          "base_uri": "https://localhost:8080/"
        },
        "id": "FOAqGoJGllsK",
        "outputId": "48e7dfca-7f77-448d-dbb1-a11612b1fe25"
      },
      "execution_count": 16,
      "outputs": [
        {
          "output_type": "stream",
          "name": "stdout",
          "text": [
            "\n",
            "Model Evaluation Results:\n",
            "Evaluating RMSE, MAE of algorithm SVD on 5 split(s).\n",
            "\n",
            "                  Fold 1  Fold 2  Fold 3  Fold 4  Fold 5  Mean    Std     \n",
            "RMSE (testset)    2.0799  2.0229  2.0416  2.0457  2.0706  2.0522  0.0206  \n",
            "MAE (testset)     1.5955  1.5616  1.5768  1.5585  1.5846  1.5754  0.0139  \n",
            "Fit time          0.25    0.23    0.22    0.23    0.23    0.23    0.01    \n",
            "Test time         0.01    0.01    0.01    0.01    0.01    0.01    0.00    \n"
          ]
        },
        {
          "output_type": "execute_result",
          "data": {
            "text/plain": [
              "{'test_rmse': array([2.07994405, 2.02287764, 2.04163993, 2.04572788, 2.07062193]),\n",
              " 'test_mae': array([1.59546081, 1.56161031, 1.57677305, 1.55851304, 1.58462577]),\n",
              " 'fit_time': (0.25319766998291016,\n",
              "  0.22903895378112793,\n",
              "  0.2235558032989502,\n",
              "  0.22930431365966797,\n",
              "  0.22967958450317383),\n",
              " 'test_time': (0.010662317276000977,\n",
              "  0.010432243347167969,\n",
              "  0.010432004928588867,\n",
              "  0.010371923446655273,\n",
              "  0.01098179817199707)}"
            ]
          },
          "metadata": {},
          "execution_count": 16
        }
      ]
    },
    {
      "cell_type": "code",
      "source": [
        "# Function to get movie recommendations for a user\n",
        "def get_recommendations(user_id, model, movies, ratings, top_n=10):\n",
        "    \"\"\"\n",
        "    Generate top N movie recommendations for a given user.\n",
        "    \"\"\"\n",
        "    # Get all movies the user has already rated\n",
        "    user_rated_movies = ratings[ratings['userId'] == user_id]['movieId']\n",
        "\n",
        "    # Find unrated movies\n",
        "    unrated_movies = movies[~movies['movieId'].isin(user_rated_movies)]\n",
        "\n",
        "    # Predict ratings for all unrated movies\n",
        "    recommendations = []\n",
        "    for movie_id in unrated_movies['movieId']:\n",
        "        prediction = model.predict(user_id, movie_id)\n",
        "        recommendations.append((movie_id, prediction.est))\n",
        "\n",
        "    # Sort by estimated rating in descending order\n",
        "    recommendations.sort(key=lambda x: x[1], reverse=True)\n",
        "\n",
        "    # Get top N recommendations\n",
        "    top_recommendations = recommendations[:top_n]\n",
        "\n",
        "    # Display recommended movies with titles\n",
        "    print(f\"\\nTop {top_n} Movie Recommendations for User {user_id}:\")\n",
        "    for movie_id, predicted_rating in top_recommendations:\n",
        "        movie_title = movies[movies['movieId'] == movie_id]['title'].values[0]\n",
        "        print(f\"{movie_title} (Predicted Rating: {predicted_rating:.2f})\")"
      ],
      "metadata": {
        "id": "cCRNnHXyltgQ"
      },
      "execution_count": 17,
      "outputs": []
    },
    {
      "cell_type": "code",
      "source": [
        "# Get recommendations for a specific user\n",
        "user_id = 2  # Replace this with the desired userId\n",
        "get_recommendations(user_id, model, movies, ratings, top_n=10)"
      ],
      "metadata": {
        "colab": {
          "base_uri": "https://localhost:8080/"
        },
        "id": "6LqjcH1nlw6w",
        "outputId": "e769b71d-743d-4c8a-9be0-6d4a1255a728"
      },
      "execution_count": 18,
      "outputs": [
        {
          "output_type": "stream",
          "name": "stdout",
          "text": [
            "\n",
            "Top 10 Movie Recommendations for User 2:\n",
            "Top Gun: Maverick (Predicted Rating: 8.02)\n",
            "Interstellar (Predicted Rating: 7.95)\n",
            "Joker (Predicted Rating: 7.94)\n",
            "Spider-Man: No Way Home (Predicted Rating: 7.90)\n",
            "The Lighthouse (Predicted Rating: 7.73)\n",
            "Blade Runner (Predicted Rating: 7.68)\n",
            "Terminator 2: Judgment Day (Predicted Rating: 7.67)\n",
            "Guardians of the Galaxy (Predicted Rating: 7.64)\n",
            "Die Hard (Predicted Rating: 7.63)\n",
            "The Empire Strikes Back (Predicted Rating: 7.63)\n"
          ]
        }
      ]
    }
  ]
}